{
 "cells": [
  {
   "cell_type": "code",
   "execution_count": 3,
   "id": "e3a94ac5",
   "metadata": {},
   "outputs": [],
   "source": [
    "import pandas as pd\n",
    "import numpy as np\n",
    "import matplotlib.pyplot as plt\n",
    "import seaborn as sns\n",
    "from matplotlib.pyplot import figure"
   ]
  },
  {
   "cell_type": "code",
   "execution_count": 4,
   "id": "331ee14d",
   "metadata": {
    "scrolled": true
   },
   "outputs": [
    {
     "data": {
      "text/html": [
       "<div>\n",
       "<style scoped>\n",
       "    .dataframe tbody tr th:only-of-type {\n",
       "        vertical-align: middle;\n",
       "    }\n",
       "\n",
       "    .dataframe tbody tr th {\n",
       "        vertical-align: top;\n",
       "    }\n",
       "\n",
       "    .dataframe thead th {\n",
       "        text-align: right;\n",
       "    }\n",
       "</style>\n",
       "<table border=\"1\" class=\"dataframe\">\n",
       "  <thead>\n",
       "    <tr style=\"text-align: right;\">\n",
       "      <th></th>\n",
       "      <th>brand</th>\n",
       "      <th>model</th>\n",
       "      <th>base_color</th>\n",
       "      <th>processor</th>\n",
       "      <th>screen_size</th>\n",
       "      <th>ROM</th>\n",
       "      <th>RAM</th>\n",
       "      <th>display_size</th>\n",
       "      <th>num_rear_camera</th>\n",
       "      <th>num_front_camera</th>\n",
       "      <th>battery_capacity</th>\n",
       "      <th>ratings</th>\n",
       "      <th>num_of_ratings</th>\n",
       "      <th>sales_price</th>\n",
       "      <th>discount_percent</th>\n",
       "      <th>sales</th>\n",
       "    </tr>\n",
       "  </thead>\n",
       "  <tbody>\n",
       "    <tr>\n",
       "      <th>0</th>\n",
       "      <td>Apple</td>\n",
       "      <td>iPhone SE</td>\n",
       "      <td>Black</td>\n",
       "      <td>Water</td>\n",
       "      <td>Very Small</td>\n",
       "      <td>64</td>\n",
       "      <td>2</td>\n",
       "      <td>4.7</td>\n",
       "      <td>1</td>\n",
       "      <td>1</td>\n",
       "      <td>1800</td>\n",
       "      <td>4.5</td>\n",
       "      <td>38645</td>\n",
       "      <td>32999</td>\n",
       "      <td>0.17</td>\n",
       "      <td>127.52</td>\n",
       "    </tr>\n",
       "    <tr>\n",
       "      <th>1</th>\n",
       "      <td>Apple</td>\n",
       "      <td>iPhone 12 Mini</td>\n",
       "      <td>Red</td>\n",
       "      <td>Ceramic</td>\n",
       "      <td>Small</td>\n",
       "      <td>64</td>\n",
       "      <td>4</td>\n",
       "      <td>5.4</td>\n",
       "      <td>2</td>\n",
       "      <td>1</td>\n",
       "      <td>2815</td>\n",
       "      <td>4.5</td>\n",
       "      <td>244</td>\n",
       "      <td>57149</td>\n",
       "      <td>0.04</td>\n",
       "      <td>1.39</td>\n",
       "    </tr>\n",
       "    <tr>\n",
       "      <th>2</th>\n",
       "      <td>Apple</td>\n",
       "      <td>iPhone SE</td>\n",
       "      <td>Red</td>\n",
       "      <td>Water</td>\n",
       "      <td>Very Small</td>\n",
       "      <td>64</td>\n",
       "      <td>2</td>\n",
       "      <td>4.7</td>\n",
       "      <td>1</td>\n",
       "      <td>1</td>\n",
       "      <td>1800</td>\n",
       "      <td>4.5</td>\n",
       "      <td>38645</td>\n",
       "      <td>32999</td>\n",
       "      <td>0.17</td>\n",
       "      <td>127.52</td>\n",
       "    </tr>\n",
       "    <tr>\n",
       "      <th>3</th>\n",
       "      <td>Apple</td>\n",
       "      <td>iPhone XR</td>\n",
       "      <td>Others</td>\n",
       "      <td>iOS</td>\n",
       "      <td>Medium</td>\n",
       "      <td>64</td>\n",
       "      <td>3</td>\n",
       "      <td>6.1</td>\n",
       "      <td>1</td>\n",
       "      <td>1</td>\n",
       "      <td>2942</td>\n",
       "      <td>4.6</td>\n",
       "      <td>5366</td>\n",
       "      <td>42999</td>\n",
       "      <td>0.10</td>\n",
       "      <td>23.07</td>\n",
       "    </tr>\n",
       "    <tr>\n",
       "      <th>4</th>\n",
       "      <td>Apple</td>\n",
       "      <td>iPhone 12</td>\n",
       "      <td>Red</td>\n",
       "      <td>Ceramic</td>\n",
       "      <td>Medium</td>\n",
       "      <td>128</td>\n",
       "      <td>4</td>\n",
       "      <td>6.1</td>\n",
       "      <td>2</td>\n",
       "      <td>1</td>\n",
       "      <td>2815</td>\n",
       "      <td>4.6</td>\n",
       "      <td>745</td>\n",
       "      <td>69149</td>\n",
       "      <td>0.02</td>\n",
       "      <td>5.15</td>\n",
       "    </tr>\n",
       "    <tr>\n",
       "      <th>...</th>\n",
       "      <td>...</td>\n",
       "      <td>...</td>\n",
       "      <td>...</td>\n",
       "      <td>...</td>\n",
       "      <td>...</td>\n",
       "      <td>...</td>\n",
       "      <td>...</td>\n",
       "      <td>...</td>\n",
       "      <td>...</td>\n",
       "      <td>...</td>\n",
       "      <td>...</td>\n",
       "      <td>...</td>\n",
       "      <td>...</td>\n",
       "      <td>...</td>\n",
       "      <td>...</td>\n",
       "      <td>...</td>\n",
       "    </tr>\n",
       "    <tr>\n",
       "      <th>425</th>\n",
       "      <td>Xiaomi</td>\n",
       "      <td>Redmi 6 Pro</td>\n",
       "      <td>Black</td>\n",
       "      <td>Qualcomm</td>\n",
       "      <td>Small</td>\n",
       "      <td>32</td>\n",
       "      <td>3</td>\n",
       "      <td>5.8</td>\n",
       "      <td>2</td>\n",
       "      <td>1</td>\n",
       "      <td>4000</td>\n",
       "      <td>4.3</td>\n",
       "      <td>1870</td>\n",
       "      <td>7999</td>\n",
       "      <td>0.30</td>\n",
       "      <td>1.50</td>\n",
       "    </tr>\n",
       "    <tr>\n",
       "      <th>426</th>\n",
       "      <td>Xiaomi</td>\n",
       "      <td>Redmi 6 Pro</td>\n",
       "      <td>Red</td>\n",
       "      <td>Qualcomm</td>\n",
       "      <td>Small</td>\n",
       "      <td>64</td>\n",
       "      <td>4</td>\n",
       "      <td>5.8</td>\n",
       "      <td>2</td>\n",
       "      <td>1</td>\n",
       "      <td>4000</td>\n",
       "      <td>4.3</td>\n",
       "      <td>1783</td>\n",
       "      <td>9699</td>\n",
       "      <td>0.28</td>\n",
       "      <td>1.73</td>\n",
       "    </tr>\n",
       "    <tr>\n",
       "      <th>427</th>\n",
       "      <td>Xiaomi</td>\n",
       "      <td>Mi 11 Lite</td>\n",
       "      <td>Others</td>\n",
       "      <td>Qualcomm</td>\n",
       "      <td>Large</td>\n",
       "      <td>128</td>\n",
       "      <td>6</td>\n",
       "      <td>6.5</td>\n",
       "      <td>3</td>\n",
       "      <td>1</td>\n",
       "      <td>4250</td>\n",
       "      <td>4.2</td>\n",
       "      <td>1554</td>\n",
       "      <td>21999</td>\n",
       "      <td>0.12</td>\n",
       "      <td>3.42</td>\n",
       "    </tr>\n",
       "    <tr>\n",
       "      <th>428</th>\n",
       "      <td>Xiaomi</td>\n",
       "      <td>Redmi 8A Dual</td>\n",
       "      <td>Blue</td>\n",
       "      <td>Qualcomm</td>\n",
       "      <td>Medium</td>\n",
       "      <td>32</td>\n",
       "      <td>3</td>\n",
       "      <td>6.2</td>\n",
       "      <td>2</td>\n",
       "      <td>1</td>\n",
       "      <td>5000</td>\n",
       "      <td>4.2</td>\n",
       "      <td>8161</td>\n",
       "      <td>8299</td>\n",
       "      <td>0.07</td>\n",
       "      <td>6.77</td>\n",
       "    </tr>\n",
       "    <tr>\n",
       "      <th>429</th>\n",
       "      <td>Xiaomi</td>\n",
       "      <td>Redmi 6 Pro</td>\n",
       "      <td>Blue</td>\n",
       "      <td>Qualcomm</td>\n",
       "      <td>Small</td>\n",
       "      <td>32</td>\n",
       "      <td>3</td>\n",
       "      <td>5.8</td>\n",
       "      <td>2</td>\n",
       "      <td>1</td>\n",
       "      <td>4000</td>\n",
       "      <td>4.3</td>\n",
       "      <td>1870</td>\n",
       "      <td>8190</td>\n",
       "      <td>0.36</td>\n",
       "      <td>1.53</td>\n",
       "    </tr>\n",
       "  </tbody>\n",
       "</table>\n",
       "<p>430 rows × 16 columns</p>\n",
       "</div>"
      ],
      "text/plain": [
       "      brand           model base_color processor screen_size  ROM  RAM  \\\n",
       "0     Apple       iPhone SE      Black     Water  Very Small   64    2   \n",
       "1     Apple  iPhone 12 Mini        Red   Ceramic       Small   64    4   \n",
       "2     Apple       iPhone SE        Red     Water  Very Small   64    2   \n",
       "3     Apple       iPhone XR     Others       iOS      Medium   64    3   \n",
       "4     Apple       iPhone 12        Red   Ceramic      Medium  128    4   \n",
       "..      ...             ...        ...       ...         ...  ...  ...   \n",
       "425  Xiaomi     Redmi 6 Pro      Black  Qualcomm       Small   32    3   \n",
       "426  Xiaomi     Redmi 6 Pro        Red  Qualcomm       Small   64    4   \n",
       "427  Xiaomi      Mi 11 Lite     Others  Qualcomm       Large  128    6   \n",
       "428  Xiaomi   Redmi 8A Dual       Blue  Qualcomm      Medium   32    3   \n",
       "429  Xiaomi     Redmi 6 Pro       Blue  Qualcomm       Small   32    3   \n",
       "\n",
       "     display_size  num_rear_camera  num_front_camera  battery_capacity  \\\n",
       "0             4.7                1                 1              1800   \n",
       "1             5.4                2                 1              2815   \n",
       "2             4.7                1                 1              1800   \n",
       "3             6.1                1                 1              2942   \n",
       "4             6.1                2                 1              2815   \n",
       "..            ...              ...               ...               ...   \n",
       "425           5.8                2                 1              4000   \n",
       "426           5.8                2                 1              4000   \n",
       "427           6.5                3                 1              4250   \n",
       "428           6.2                2                 1              5000   \n",
       "429           5.8                2                 1              4000   \n",
       "\n",
       "     ratings  num_of_ratings  sales_price  discount_percent   sales  \n",
       "0        4.5           38645        32999              0.17  127.52  \n",
       "1        4.5             244        57149              0.04    1.39  \n",
       "2        4.5           38645        32999              0.17  127.52  \n",
       "3        4.6            5366        42999              0.10   23.07  \n",
       "4        4.6             745        69149              0.02    5.15  \n",
       "..       ...             ...          ...               ...     ...  \n",
       "425      4.3            1870         7999              0.30    1.50  \n",
       "426      4.3            1783         9699              0.28    1.73  \n",
       "427      4.2            1554        21999              0.12    3.42  \n",
       "428      4.2            8161         8299              0.07    6.77  \n",
       "429      4.3            1870         8190              0.36    1.53  \n",
       "\n",
       "[430 rows x 16 columns]"
      ]
     },
     "execution_count": 4,
     "metadata": {},
     "output_type": "execute_result"
    }
   ],
   "source": [
    "data=pd.read_csv(\"flipkartmobiles.csv\")\n",
    "data"
   ]
  },
  {
   "cell_type": "code",
   "execution_count": 20,
   "id": "ff8bdff8",
   "metadata": {},
   "outputs": [
    {
     "data": {
      "text/plain": [
       "(430, 16)"
      ]
     },
     "execution_count": 20,
     "metadata": {},
     "output_type": "execute_result"
    }
   ],
   "source": [
    "data.shape"
   ]
  },
  {
   "cell_type": "code",
   "execution_count": 22,
   "id": "ab7096af",
   "metadata": {},
   "outputs": [
    {
     "name": "stdout",
     "output_type": "stream",
     "text": [
      "<class 'pandas.core.frame.DataFrame'>\n",
      "RangeIndex: 430 entries, 0 to 429\n",
      "Data columns (total 16 columns):\n",
      " #   Column            Non-Null Count  Dtype  \n",
      "---  ------            --------------  -----  \n",
      " 0   brand             430 non-null    object \n",
      " 1   model             430 non-null    object \n",
      " 2   base_color        430 non-null    object \n",
      " 3   processor         430 non-null    object \n",
      " 4   screen_size       430 non-null    object \n",
      " 5   ROM               430 non-null    int64  \n",
      " 6   RAM               430 non-null    int64  \n",
      " 7   display_size      430 non-null    float64\n",
      " 8   num_rear_camera   430 non-null    int64  \n",
      " 9   num_front_camera  430 non-null    int64  \n",
      " 10  battery_capacity  430 non-null    int64  \n",
      " 11  ratings           430 non-null    float64\n",
      " 12  num_of_ratings    430 non-null    int64  \n",
      " 13  sales_price       430 non-null    int64  \n",
      " 14  discount_percent  430 non-null    float64\n",
      " 15  sales             430 non-null    float64\n",
      "dtypes: float64(4), int64(7), object(5)\n",
      "memory usage: 53.9+ KB\n"
     ]
    }
   ],
   "source": [
    "data.info()"
   ]
  },
  {
   "cell_type": "code",
   "execution_count": 27,
   "id": "2e093d4e",
   "metadata": {},
   "outputs": [
    {
     "data": {
      "text/plain": [
       "brand               0\n",
       "model               0\n",
       "base_color          0\n",
       "processor           0\n",
       "screen_size         0\n",
       "ROM                 0\n",
       "RAM                 0\n",
       "display_size        0\n",
       "num_rear_camera     0\n",
       "num_front_camera    0\n",
       "battery_capacity    0\n",
       "ratings             0\n",
       "num_of_ratings      0\n",
       "sales_price         0\n",
       "discount_percent    0\n",
       "sales               0\n",
       "dtype: int64"
      ]
     },
     "execution_count": 27,
     "metadata": {},
     "output_type": "execute_result"
    }
   ],
   "source": [
    "data.isnull().sum()"
   ]
  },
  {
   "cell_type": "markdown",
   "id": "1d09ebd7",
   "metadata": {},
   "source": [
    "# Brand with the more number of phones-Realme"
   ]
  },
  {
   "cell_type": "code",
   "execution_count": 20,
   "id": "7423282c",
   "metadata": {},
   "outputs": [
    {
     "data": {
      "image/png": "[encoded data removed]",
      "text/plain": [
       "<Figure size 720x720 with 1 Axes>"
      ]
     },
     "metadata": {},
     "output_type": "display_data"
    }
   ],
   "source": [
    "brandwise=data['brand'].value_counts().plot.pie(figsize=(10,10))"
   ]
  },
  {
   "cell_type": "markdown",
   "id": "64d4bf12",
   "metadata": {},
   "source": [
    "# Xiaomi had the most number of ratings"
   ]
  },
  {
   "cell_type": "code",
   "execution_count": 83,
   "id": "176c6da8",
   "metadata": {},
   "outputs": [
    {
     "name": "stderr",
     "output_type": "stream",
     "text": [
      "C:\\ProgramData\\Anaconda3\\lib\\site-packages\\seaborn\\_decorators.py:36: FutureWarning: Pass the following variables as keyword args: x, y. From version 0.12, the only valid positional argument will be `data`, and passing other arguments without an explicit keyword will result in an error or misinterpretation.\n",
      "  warnings.warn(\n"
     ]
    },
    {
     "data": {
      "text/plain": [
       "<AxesSubplot:xlabel='num_of_ratings', ylabel='brand'>"
      ]
     },
     "execution_count": 83,
     "metadata": {},
     "output_type": "execute_result"
    },
    {
     "data": {
      "image/png": "[encoded data removed]",
      "text/plain": [
       "<Figure size 432x288 with 1 Axes>"
      ]
     },
     "metadata": {
      "needs_background": "light"
     },
     "output_type": "display_data"
    }
   ],
   "source": [
    "sns.barplot(data['num_of_ratings'],data['brand'])"
   ]
  },
  {
   "cell_type": "markdown",
   "id": "08819b2f",
   "metadata": {},
   "source": [
    "# Blue was the most prefered color"
   ]
  },
  {
   "cell_type": "code",
   "execution_count": 92,
   "id": "d26b8245",
   "metadata": {},
   "outputs": [
    {
     "data": {
      "text/plain": [
       "<BarContainer object of 12 artists>"
      ]
     },
     "execution_count": 92,
     "metadata": {},
     "output_type": "execute_result"
    },
    {
     "data": {
      "image/png": "[encoded data removed]",
      "text/plain": [
       "<Figure size 720x576 with 1 Axes>"
      ]
     },
     "metadata": {
      "needs_background": "light"
     },
     "output_type": "display_data"
    }
   ],
   "source": [
    "by_color=data.groupby(data['base_color'],as_index=False).model.count()\n",
    "figure(figsize=(10,8))\n",
    "plt.bar(by_color['base_color'],by_color['model'])"
   ]
  },
  {
   "cell_type": "markdown",
   "id": "8e883eaa",
   "metadata": {},
   "source": [
    "# Brands grouped based on the color of their models"
   ]
  },
  {
   "cell_type": "code",
   "execution_count": 7,
   "id": "2d6eebf5",
   "metadata": {},
   "outputs": [
    {
     "data": {
      "text/html": [
       "<div>\n",
       "<style scoped>\n",
       "    .dataframe tbody tr th:only-of-type {\n",
       "        vertical-align: middle;\n",
       "    }\n",
       "\n",
       "    .dataframe tbody tr th {\n",
       "        vertical-align: top;\n",
       "    }\n",
       "\n",
       "    .dataframe thead th {\n",
       "        text-align: right;\n",
       "    }\n",
       "</style>\n",
       "<table border=\"1\" class=\"dataframe\">\n",
       "  <thead>\n",
       "    <tr style=\"text-align: right;\">\n",
       "      <th></th>\n",
       "      <th>brand</th>\n",
       "      <th>model</th>\n",
       "      <th>base_color</th>\n",
       "      <th>Count</th>\n",
       "    </tr>\n",
       "  </thead>\n",
       "  <tbody>\n",
       "    <tr>\n",
       "      <th>0</th>\n",
       "      <td>Apple</td>\n",
       "      <td>iPhone 12</td>\n",
       "      <td>Black</td>\n",
       "      <td>3</td>\n",
       "    </tr>\n",
       "    <tr>\n",
       "      <th>1</th>\n",
       "      <td>Apple</td>\n",
       "      <td>iPhone 12</td>\n",
       "      <td>Blue</td>\n",
       "      <td>3</td>\n",
       "    </tr>\n",
       "    <tr>\n",
       "      <th>2</th>\n",
       "      <td>Apple</td>\n",
       "      <td>iPhone 12</td>\n",
       "      <td>Green</td>\n",
       "      <td>3</td>\n",
       "    </tr>\n",
       "    <tr>\n",
       "      <th>3</th>\n",
       "      <td>Apple</td>\n",
       "      <td>iPhone 12</td>\n",
       "      <td>Purple</td>\n",
       "      <td>2</td>\n",
       "    </tr>\n",
       "    <tr>\n",
       "      <th>4</th>\n",
       "      <td>Apple</td>\n",
       "      <td>iPhone 12</td>\n",
       "      <td>Red</td>\n",
       "      <td>3</td>\n",
       "    </tr>\n",
       "    <tr>\n",
       "      <th>...</th>\n",
       "      <td>...</td>\n",
       "      <td>...</td>\n",
       "      <td>...</td>\n",
       "      <td>...</td>\n",
       "    </tr>\n",
       "    <tr>\n",
       "      <th>249</th>\n",
       "      <td>Xiaomi</td>\n",
       "      <td>Redmi Note 9 Pro</td>\n",
       "      <td>Gold</td>\n",
       "      <td>1</td>\n",
       "    </tr>\n",
       "    <tr>\n",
       "      <th>250</th>\n",
       "      <td>Xiaomi</td>\n",
       "      <td>Redmi Note 9 Pro</td>\n",
       "      <td>White</td>\n",
       "      <td>1</td>\n",
       "    </tr>\n",
       "    <tr>\n",
       "      <th>251</th>\n",
       "      <td>Xiaomi</td>\n",
       "      <td>Redmi Y2</td>\n",
       "      <td>Gold</td>\n",
       "      <td>1</td>\n",
       "    </tr>\n",
       "    <tr>\n",
       "      <th>252</th>\n",
       "      <td>Xiaomi</td>\n",
       "      <td>Redmi Y3</td>\n",
       "      <td>Black</td>\n",
       "      <td>1</td>\n",
       "    </tr>\n",
       "    <tr>\n",
       "      <th>253</th>\n",
       "      <td>Xiaomi</td>\n",
       "      <td>Redmi Y3</td>\n",
       "      <td>Red</td>\n",
       "      <td>2</td>\n",
       "    </tr>\n",
       "  </tbody>\n",
       "</table>\n",
       "<p>254 rows × 4 columns</p>\n",
       "</div>"
      ],
      "text/plain": [
       "      brand             model base_color  Count\n",
       "0     Apple         iPhone 12      Black      3\n",
       "1     Apple         iPhone 12       Blue      3\n",
       "2     Apple         iPhone 12      Green      3\n",
       "3     Apple         iPhone 12     Purple      2\n",
       "4     Apple         iPhone 12        Red      3\n",
       "..      ...               ...        ...    ...\n",
       "249  Xiaomi  Redmi Note 9 Pro       Gold      1\n",
       "250  Xiaomi  Redmi Note 9 Pro      White      1\n",
       "251  Xiaomi          Redmi Y2       Gold      1\n",
       "252  Xiaomi          Redmi Y3      Black      1\n",
       "253  Xiaomi          Redmi Y3        Red      2\n",
       "\n",
       "[254 rows x 4 columns]"
      ]
     },
     "execution_count": 7,
     "metadata": {},
     "output_type": "execute_result"
    }
   ],
   "source": [
    "brands_and_colors=data.groupby(['brand','model','base_color']).size().reset_index(name='Count')\n",
    "brands_and_colors"
   ]
  },
  {
   "cell_type": "markdown",
   "id": "4a1cb028",
   "metadata": {},
   "source": [
    "# Brands grouped based on processors"
   ]
  },
  {
   "cell_type": "code",
   "execution_count": 15,
   "id": "13fb6402",
   "metadata": {},
   "outputs": [
    {
     "data": {
      "text/html": [
       "<div>\n",
       "<style scoped>\n",
       "    .dataframe tbody tr th:only-of-type {\n",
       "        vertical-align: middle;\n",
       "    }\n",
       "\n",
       "    .dataframe tbody tr th {\n",
       "        vertical-align: top;\n",
       "    }\n",
       "\n",
       "    .dataframe thead th {\n",
       "        text-align: right;\n",
       "    }\n",
       "</style>\n",
       "<table border=\"1\" class=\"dataframe\">\n",
       "  <thead>\n",
       "    <tr style=\"text-align: right;\">\n",
       "      <th></th>\n",
       "      <th>brand</th>\n",
       "      <th>processor</th>\n",
       "      <th>Count</th>\n",
       "    </tr>\n",
       "  </thead>\n",
       "  <tbody>\n",
       "    <tr>\n",
       "      <th>0</th>\n",
       "      <td>Apple</td>\n",
       "      <td>Ceramic</td>\n",
       "      <td>33</td>\n",
       "    </tr>\n",
       "    <tr>\n",
       "      <th>1</th>\n",
       "      <td>Apple</td>\n",
       "      <td>Water</td>\n",
       "      <td>11</td>\n",
       "    </tr>\n",
       "    <tr>\n",
       "      <th>2</th>\n",
       "      <td>Apple</td>\n",
       "      <td>iOS</td>\n",
       "      <td>12</td>\n",
       "    </tr>\n",
       "    <tr>\n",
       "      <th>3</th>\n",
       "      <td>Poco</td>\n",
       "      <td>MediaTek</td>\n",
       "      <td>23</td>\n",
       "    </tr>\n",
       "    <tr>\n",
       "      <th>4</th>\n",
       "      <td>Poco</td>\n",
       "      <td>Qualcomm</td>\n",
       "      <td>33</td>\n",
       "    </tr>\n",
       "    <tr>\n",
       "      <th>5</th>\n",
       "      <td>Realme</td>\n",
       "      <td>MediaTek</td>\n",
       "      <td>91</td>\n",
       "    </tr>\n",
       "    <tr>\n",
       "      <th>6</th>\n",
       "      <td>Realme</td>\n",
       "      <td>Others</td>\n",
       "      <td>6</td>\n",
       "    </tr>\n",
       "    <tr>\n",
       "      <th>7</th>\n",
       "      <td>Realme</td>\n",
       "      <td>Qualcomm</td>\n",
       "      <td>41</td>\n",
       "    </tr>\n",
       "    <tr>\n",
       "      <th>8</th>\n",
       "      <td>Samsung</td>\n",
       "      <td>Exynos</td>\n",
       "      <td>53</td>\n",
       "    </tr>\n",
       "    <tr>\n",
       "      <th>9</th>\n",
       "      <td>Samsung</td>\n",
       "      <td>MediaTek</td>\n",
       "      <td>25</td>\n",
       "    </tr>\n",
       "    <tr>\n",
       "      <th>10</th>\n",
       "      <td>Samsung</td>\n",
       "      <td>Others</td>\n",
       "      <td>3</td>\n",
       "    </tr>\n",
       "    <tr>\n",
       "      <th>11</th>\n",
       "      <td>Samsung</td>\n",
       "      <td>Qualcomm</td>\n",
       "      <td>38</td>\n",
       "    </tr>\n",
       "    <tr>\n",
       "      <th>12</th>\n",
       "      <td>Xiaomi</td>\n",
       "      <td>MediaTek</td>\n",
       "      <td>5</td>\n",
       "    </tr>\n",
       "    <tr>\n",
       "      <th>13</th>\n",
       "      <td>Xiaomi</td>\n",
       "      <td>Qualcomm</td>\n",
       "      <td>56</td>\n",
       "    </tr>\n",
       "  </tbody>\n",
       "</table>\n",
       "</div>"
      ],
      "text/plain": [
       "      brand processor  Count\n",
       "0     Apple   Ceramic     33\n",
       "1     Apple     Water     11\n",
       "2     Apple       iOS     12\n",
       "3      Poco  MediaTek     23\n",
       "4      Poco  Qualcomm     33\n",
       "5    Realme  MediaTek     91\n",
       "6    Realme    Others      6\n",
       "7    Realme  Qualcomm     41\n",
       "8   Samsung    Exynos     53\n",
       "9   Samsung  MediaTek     25\n",
       "10  Samsung    Others      3\n",
       "11  Samsung  Qualcomm     38\n",
       "12   Xiaomi  MediaTek      5\n",
       "13   Xiaomi  Qualcomm     56"
      ]
     },
     "execution_count": 15,
     "metadata": {},
     "output_type": "execute_result"
    }
   ],
   "source": [
    "processors=data.groupby(['brand','processor']).size().reset_index(name='Count')\n",
    "processors"
   ]
  },
  {
   "cell_type": "code",
   "execution_count": 13,
   "id": "2729a317",
   "metadata": {},
   "outputs": [
    {
     "data": {
      "text/plain": [
       "<AxesSubplot:xlabel='brand', ylabel='Count'>"
      ]
     },
     "execution_count": 13,
     "metadata": {},
     "output_type": "execute_result"
    },
    {
     "data": {
      "image/png": "[encoded data removed]",
      "text/plain": [
       "<Figure size 720x576 with 1 Axes>"
      ]
     },
     "metadata": {
      "needs_background": "light"
     },
     "output_type": "display_data"
    }
   ],
   "source": [
    "figure(figsize=(10,8))\n",
    "sns.barplot(x='brand',y='Count',hue='processor',data=processors)"
   ]
  },
  {
   "cell_type": "markdown",
   "id": "7fb71726",
   "metadata": {},
   "source": [
    "# Brands and their ratings"
   ]
  },
  {
   "cell_type": "code",
   "execution_count": 62,
   "id": "2875d391",
   "metadata": {},
   "outputs": [
    {
     "data": {
      "text/plain": [
       "<AxesSubplot:xlabel='brand', ylabel='ratings'>"
      ]
     },
     "execution_count": 62,
     "metadata": {},
     "output_type": "execute_result"
    },
    {
     "data": {
      "image/png": "[encoded data removed]",
      "text/plain": [
       "<Figure size 720x432 with 1 Axes>"
      ]
     },
     "metadata": {
      "needs_background": "light"
     },
     "output_type": "display_data"
    }
   ],
   "source": [
    "figure(figsize=(10,6))\n",
    "sns.regplot(x = \"brand\", y=\"ratings\",data=data, fit_reg = False, scatter_kws={\"alpha\": 1})"
   ]
  },
  {
   "cell_type": "markdown",
   "id": "e364c8e1",
   "metadata": {},
   "source": [
    "# GT Master Edition was the most sold phone in Realme and 6i was the least"
   ]
  },
  {
   "cell_type": "code",
   "execution_count": 95,
   "id": "feb0fbb3",
   "metadata": {},
   "outputs": [
    {
     "name": "stdout",
     "output_type": "stream",
     "text": [
      "GT Master Edition    9\n",
      "X3 SuperZoom         6\n",
      "7 Pro                6\n",
      "Narzo 30             6\n",
      "3i                   6\n",
      "5 Pro                6\n",
      "8 5G                 6\n",
      "8 Pro                6\n",
      "X7 Max               6\n",
      "8                    6\n",
      "X7 5G                4\n",
      "Narzo 30 Pro 5G      4\n",
      "C25                  4\n",
      "C11 2021             4\n",
      "Narzo 20             4\n",
      "C2                   4\n",
      "7                    4\n",
      "C15                  4\n",
      "Narzo 30A            4\n",
      "C21                  4\n",
      "Narzo 30 5G          4\n",
      "X3                   3\n",
      "GT 5G                3\n",
      "Narzo 10A            3\n",
      "6                    3\n",
      "Narzo 20A            2\n",
      "C20                  2\n",
      "C11                  2\n",
      "X7 Pro 5G            2\n",
      "Narzo 20 Pro         2\n",
      "C12                  2\n",
      "8s 5G                2\n",
      "C21Y                 2\n",
      "Narzo 10             2\n",
      "6i                   1\n",
      "Name: model, dtype: int64\n"
     ]
    },
    {
     "data": {
      "image/png": "[encoded data removed]",
      "text/plain": [
       "<Figure size 1080x720 with 1 Axes>"
      ]
     },
     "metadata": {
      "needs_background": "light"
     },
     "output_type": "display_data"
    }
   ],
   "source": [
    "realme=data.loc[(data['brand']=='Realme','model')].value_counts()\n",
    "realme.plot.bar(figsize=(15,10))\n",
    "print(realme)"
   ]
  },
  {
   "cell_type": "markdown",
   "id": "39f1fea8",
   "metadata": {},
   "source": [
    "# iPhone XR was the most sold phone for Apple "
   ]
  },
  {
   "cell_type": "code",
   "execution_count": 96,
   "id": "a336c31a",
   "metadata": {},
   "outputs": [
    {
     "name": "stdout",
     "output_type": "stream",
     "text": [
      "iPhone XR         18\n",
      "iPhone 12         17\n",
      "iPhone 12 Mini    16\n",
      "iPhone SE          3\n",
      "iPhone 8           1\n",
      "iPhone 7 Plus      1\n",
      "Name: model, dtype: int64\n"
     ]
    },
    {
     "data": {
      "image/png": "[encoded data removed]",
      "text/plain": [
       "<Figure size 720x720 with 1 Axes>"
      ]
     },
     "metadata": {},
     "output_type": "display_data"
    }
   ],
   "source": [
    "apple=data.loc[(data['brand']=='Apple','model')].value_counts()\n",
    "apple.plot.pie(figsize=(10,10))\n",
    "print(apple)"
   ]
  },
  {
   "cell_type": "markdown",
   "id": "915def80",
   "metadata": {},
   "source": [
    "# A21s was the most sold model for Samsung "
   ]
  },
  {
   "cell_type": "code",
   "execution_count": 98,
   "id": "174f7c54",
   "metadata": {},
   "outputs": [
    {
     "name": "stdout",
     "output_type": "stream",
     "text": [
      "Galaxy A21s                7\n",
      "Galaxy F62                 6\n",
      "Galaxy F12                 6\n",
      "Galaxy F41                 6\n",
      "Galaxy A03s                6\n",
      "Galaxy A20s                5\n",
      "Galaxy F02s                5\n",
      "Galaxy A51                 5\n",
      "Galaxy A12                 5\n",
      "Galaxy F22                 4\n",
      "Galaxy M02                 4\n",
      "Galaxy A52s 5G             4\n",
      "Galaxy Z Flip3 5G          4\n",
      "Galaxy A22 5G              4\n",
      "Galaxy A52                 3\n",
      "Galaxy S20 FE              3\n",
      "Galaxy Z Fold3 5G          3\n",
      "Galaxy Note 20             3\n",
      "Galaxy A50s                2\n",
      "Galaxy Note 20 Ultra 5G    2\n",
      "Galaxy M01                 2\n",
      "Galaxy Grand 2             2\n",
      "Galaxy J7 - 6              2\n",
      "Galaxy A71                 2\n",
      "Galaxy A72                 2\n",
      "Galaxy M31                 2\n",
      "Galaxy M32                 2\n",
      "M02s                       2\n",
      "Galaxy A31                 2\n",
      "Galaxy M11                 1\n",
      "Galaxy S21 Plus            1\n",
      "Galaxy S21                 1\n",
      "Galaxy Note10 Lite         1\n",
      "Galaxy M30s                1\n",
      "Galaxy M42                 1\n",
      "Galaxy A10                 1\n",
      "Galaxy A80                 1\n",
      "Galaxy A20                 1\n",
      "Galaxy A22                 1\n",
      "Galaxy J6                  1\n",
      "Galaxy A7                  1\n",
      "Galaxy Fold 2              1\n",
      "Galaxy S10                 1\n",
      "Name: model, dtype: int64\n"
     ]
    },
    {
     "data": {
      "image/png": "[encoded data removed]",
      "text/plain": [
       "<Figure size 1080x720 with 1 Axes>"
      ]
     },
     "metadata": {
      "needs_background": "light"
     },
     "output_type": "display_data"
    }
   ],
   "source": [
    "samsung=data.loc[(data['brand']=='Samsung','model')].value_counts()\n",
    "samsung.plot.bar(figsize=(15,10))\n",
    "print(samsung)"
   ]
  }
 ],
 "metadata": {
  "kernelspec": {
   "display_name": "Python 3 (ipykernel)",
   "language": "python",
   "name": "python3"
  },
  "language_info": {
   "codemirror_mode": {
    "name": "ipython",
    "version": 3
   },
   "file_extension": ".py",
   "mimetype": "text/x-python",
   "name": "python",
   "nbconvert_exporter": "python",
   "pygments_lexer": "ipython3",
   "version": "3.9.12"
  }
 },
 "nbformat": 4,
 "nbformat_minor": 5
}
